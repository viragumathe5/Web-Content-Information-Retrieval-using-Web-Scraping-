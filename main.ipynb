{
 "cells": [
  {
   "cell_type": "code",
   "execution_count": 4,
   "metadata": {
    "scrolled": true
   },
   "outputs": [
    {
     "name": "stdout",
     "output_type": "stream",
     "text": [
      "\n",
      "<********************************************************************************************************>\n",
      "\n",
      "[]\n"
     ]
    }
   ],
   "source": [
    "from urllib.request import urlopen\n",
    "\n",
    "from bs4 import BeautifulSoup\n",
    "\n",
    "\n",
    "def get_banner():\n",
    "    return f\"\\n<{'*' * 104}>\\n\"\n",
    "\n",
    "\n",
    "def get_soup_from_url(url: str) -> BeautifulSoup:\n",
    "    with urlopen(url) as reply:\n",
    "        return BeautifulSoup(reply.read(), \"html.parser\")\n",
    "\n",
    "\n",
    "def get_img_links(url : str):\n",
    "    print(get_banner())\n",
    "    soup = get_soup_from_url(url)\n",
    "    links = soup.find_all(\"img\")\n",
    "    \n",
    "    for image in links:\n",
    "        print(image.get(\"src\"))\n",
    "\n",
    "    print(get_banner())\n",
    "        \n",
    "        \n",
    "def get_header(url : str):\n",
    "    print(get_banner())\n",
    "    soup = get_soup_from_url(url)\n",
    "    lst = ['h1', 'h2', 'h3', 'h4', 'h5']\n",
    "    headers = soup.find_all(lst)\n",
    "    \n",
    "    for header in headers:\n",
    "        print(header.getText())\n",
    "        \n",
    "    print(get_banner())\n",
    "    \n",
    "\n",
    "def get_text(url : str):\n",
    "    print(get_banner())\n",
    "    \n",
    "    soup = get_soup_from_url(url)\n",
    "    texts = soup.find_all('p')\n",
    "    \n",
    "    for text in texts:\n",
    "        print(text.getText())\n",
    "        print('\\n\\n')\n",
    "        \n",
    "    print(get_banner())\n",
    "    \n",
    "    \n",
    "    \n",
    "def get_links(url : str):\n",
    "    print(get_banner())\n",
    "    \n",
    "    soup = get_soup_from_url(url)\n",
    "    texts = soup.find_all('a href')\n",
    "    print(texts)\n",
    "'''  \n",
    "    for link in links:\n",
    "        print(link.get('href'))\n",
    "        print('\\n\\n')\n",
    "        \n",
    "    print(get_banner())\n",
    "    \n",
    "'''  \n",
    "    \n",
    "\n",
    "    \n",
    "#get_img_links(\"https://www.pixar.com/feature-films/cars-3\")\n",
    "#get_header(\"https://www.pixar.com/feature-films/cars-3\")\n",
    "#get_text(\"https://www.pixar.com/feature-films/cars-3\")\n",
    "get_links(\"https://www.pixar.com/feature-films/cars-3\")\n"
   ]
  },
  {
   "cell_type": "code",
   "execution_count": null,
   "metadata": {},
   "outputs": [],
   "source": []
  }
 ],
 "metadata": {
  "kernelspec": {
   "display_name": "Python 3",
   "language": "python",
   "name": "python3"
  }
 },
 "nbformat": 4,
 "nbformat_minor": 4
}
