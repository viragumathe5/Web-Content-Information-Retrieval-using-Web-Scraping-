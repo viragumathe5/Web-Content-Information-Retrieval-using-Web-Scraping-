{
 "cells": [
  {
   "cell_type": "code",
   "execution_count": null,
   "metadata": {
    "scrolled": true
   },
   "outputs": [
    {
     "name": "stdout",
     "output_type": "stream",
     "text": [
      "\n",
      "<********************************************************************************************************>\n",
      "\n"
     ]
    }
   ],
   "source": [
    "from urllib.request import urlopen\n",
    "from bs4 import BeautifulSoup\n",
    "#import spacy\n",
    "\n",
    "#spacy_nlp = spacy.load('en_core_web_sm')\n",
    "\n",
    "\n",
    "\n",
    "def get_banner():\n",
    "    return f\"\\n<{'*' * 104}>\\n\"\n",
    "\n",
    "\n",
    "def get_soup_from_url(url: str) -> BeautifulSoup:\n",
    "    with urlopen(url) as reply:\n",
    "        return BeautifulSoup(reply.read(), \"html.parser\")\n",
    "\n",
    "\n",
    "def get_img_links(url : str):\n",
    "    print(get_banner())\n",
    "    soup = get_soup_from_url(url)\n",
    "    links = soup.find_all(\"img\")\n",
    "    \n",
    "    for image in links:\n",
    "        print(image.get(\"src\"))\n",
    "\n",
    "    print(get_banner())\n",
    "        \n",
    "        \n",
    "def get_header(url : str):\n",
    "    print(get_banner())\n",
    "    soup = get_soup_from_url(url)\n",
    "    lst = ['h1', 'h2', 'h3', 'h4', 'h5']\n",
    "    headers = soup.find_all(lst)\n",
    "    \n",
    "    for header in headers:\n",
    "        print(header.getText())\n",
    "        \n",
    "    print(get_banner())\n",
    "    \n",
    "\n",
    "def get_text(url : str):\n",
    "    print(get_banner())\n",
    "    \n",
    "    soup = get_soup_from_url(url)\n",
    "    texts = soup.find_all('p')\n",
    "    \n",
    "    for text in texts:\n",
    "        print(text.getText())\n",
    "        \n",
    "    print(get_banner())\n",
    "    \n",
    "\n",
    "    \n",
    "get_img_links(\"https://www.pixar.com/feature-films/cars-3\")\n",
    "print(\"\\n\\n--------------------------------------------------------------------\\n\\n\")\n",
    "get_header(\"https://www.pixar.com/feature-films/cars-3\")\n",
    "print(\"\\n\\n--------------------------------------------------------------------\\n\\n\")\n",
    "get_text(\"https://www.pixar.com/feature-films/cars-3\")\n",
    "print(\"\\n\\n--------------------------------------------------------------------\\n\\n\")"
   ]
  },
  {
   "cell_type": "code",
   "execution_count": null,
   "metadata": {},
   "outputs": [],
   "source": []
  }
 ],
 "metadata": {
  "kernelspec": {
   "display_name": "Python 3",
   "language": "python",
   "name": "python3"
  },
  "language_info": {
   "codemirror_mode": {
    "name": "ipython",
    "version": 3
   },
   "file_extension": ".py",
   "mimetype": "text/x-python",
   "name": "python",
   "nbconvert_exporter": "python",
   "pygments_lexer": "ipython3",
   "version": "3.7.6"
  }
 },
 "nbformat": 4,
 "nbformat_minor": 4
}
